{
 "cells": [
  {
   "cell_type": "code",
   "execution_count": 9,
   "metadata": {},
   "outputs": [
    {
     "name": "stdout",
     "output_type": "stream",
     "text": [
      "3.6.5\n"
     ]
    },
    {
     "data": {
      "text/plain": [
       "'theano'"
      ]
     },
     "execution_count": 9,
     "metadata": {},
     "output_type": "execute_result"
    }
   ],
   "source": [
    "import numpy as np\n",
    "import matplotlib.pyplot as plt\n",
    "%matplotlib inline\n",
    "import keras\n",
    "from keras.preprocessing.image import ImageDataGenerator, load_img\n",
    "\n",
    "from datetime import datetime, timedelta\n",
    "\n",
    "import platform\n",
    " \n",
    "print(platform.python_version())\n",
    "\n",
    "import keras\n",
    "keras.backend.backend()"
   ]
  },
  {
   "cell_type": "code",
   "execution_count": 2,
   "metadata": {},
   "outputs": [],
   "source": [
    "train_dir = 'img/train'\n",
    "validation_dir = 'img/validation'\n",
    "image_size = 224"
   ]
  },
  {
   "cell_type": "markdown",
   "metadata": {},
   "source": [
    "## Experiment 1: Freezing all layers - Same as Transfer Learning\n",
    "Create the model"
   ]
  },
  {
   "cell_type": "code",
   "execution_count": 12,
   "metadata": {},
   "outputs": [
    {
     "name": "stdout",
     "output_type": "stream",
     "text": [
      "<keras.engine.input_layer.InputLayer object at 0x122cea438> False\n",
      "<keras.layers.convolutional.Conv2D object at 0x124effc88> False\n",
      "<keras.layers.normalization.BatchNormalization object at 0x124effa90> False\n",
      "<keras.layers.core.Activation object at 0x13675f1d0> False\n",
      "<keras.layers.convolutional.Conv2D object at 0x136823860> False\n",
      "<keras.layers.normalization.BatchNormalization object at 0x13682c5f8> False\n",
      "<keras.layers.core.Activation object at 0x124b6ea58> False\n",
      "<keras.layers.convolutional.SeparableConv2D object at 0x124d38be0> False\n",
      "<keras.layers.normalization.BatchNormalization object at 0x124ba24a8> False\n",
      "<keras.layers.core.Activation object at 0x13675a550> False\n",
      "<keras.layers.convolutional.SeparableConv2D object at 0x1368dbb70> False\n",
      "<keras.layers.normalization.BatchNormalization object at 0x1368b5c18> False\n",
      "<keras.layers.convolutional.Conv2D object at 0x1367d5d68> False\n",
      "<keras.layers.pooling.MaxPooling2D object at 0x1368ce048> False\n",
      "<keras.layers.normalization.BatchNormalization object at 0x124baebe0> False\n",
      "<keras.layers.merge.Add object at 0x136980b70> False\n",
      "<keras.layers.core.Activation object at 0x136a58f98> False\n",
      "<keras.layers.convolutional.SeparableConv2D object at 0x136a5e6d8> False\n",
      "<keras.layers.normalization.BatchNormalization object at 0x1369384e0> False\n",
      "<keras.layers.core.Activation object at 0x136a7e4e0> False\n",
      "<keras.layers.convolutional.SeparableConv2D object at 0x136b527b8> False\n",
      "<keras.layers.normalization.BatchNormalization object at 0x136a972e8> False\n",
      "<keras.layers.convolutional.Conv2D object at 0x13698e2e8> False\n",
      "<keras.layers.pooling.MaxPooling2D object at 0x136ae7e10> False\n",
      "<keras.layers.normalization.BatchNormalization object at 0x1369e1ac8> False\n",
      "<keras.layers.merge.Add object at 0x136cfb208> False\n",
      "<keras.layers.core.Activation object at 0x136e115c0> False\n",
      "<keras.layers.convolutional.SeparableConv2D object at 0x136ce57f0> False\n",
      "<keras.layers.normalization.BatchNormalization object at 0x136e3fc18> False\n",
      "<keras.layers.core.Activation object at 0x136fc0be0> False\n",
      "<keras.layers.convolutional.SeparableConv2D object at 0x13701b5c0> False\n",
      "<keras.layers.normalization.BatchNormalization object at 0x137031710> False\n",
      "<keras.layers.convolutional.Conv2D object at 0x136c5ba58> False\n",
      "<keras.layers.pooling.MaxPooling2D object at 0x1370dbe80> False\n",
      "<keras.layers.normalization.BatchNormalization object at 0x136d042e8> False\n",
      "<keras.layers.merge.Add object at 0x13731ab00> False\n",
      "<keras.layers.core.Activation object at 0x1372e2a90> False\n",
      "<keras.layers.convolutional.SeparableConv2D object at 0x1371ecbe0> False\n",
      "<keras.layers.normalization.BatchNormalization object at 0x13772de48> False\n",
      "<keras.layers.core.Activation object at 0x137736978> False\n",
      "<keras.layers.convolutional.SeparableConv2D object at 0x137a7c6a0> False\n",
      "<keras.layers.normalization.BatchNormalization object at 0x137a58d30> False\n",
      "<keras.layers.core.Activation object at 0x137a66cc0> False\n",
      "<keras.layers.convolutional.SeparableConv2D object at 0x137b65fd0> False\n",
      "<keras.layers.normalization.BatchNormalization object at 0x137b4a2b0> False\n",
      "<keras.layers.merge.Add object at 0x137ac3f98> False\n",
      "<keras.layers.core.Activation object at 0x1377367f0> False\n",
      "<keras.layers.convolutional.SeparableConv2D object at 0x137eb8e10> False\n",
      "<keras.layers.normalization.BatchNormalization object at 0x137ac3978> False\n",
      "<keras.layers.core.Activation object at 0x1380e0978> False\n",
      "<keras.layers.convolutional.SeparableConv2D object at 0x1384399b0> False\n",
      "<keras.layers.normalization.BatchNormalization object at 0x138400978> False\n",
      "<keras.layers.core.Activation object at 0x138430048> False\n",
      "<keras.layers.convolutional.SeparableConv2D object at 0x138487940> False\n",
      "<keras.layers.normalization.BatchNormalization object at 0x1387679e8> False\n",
      "<keras.layers.merge.Add object at 0x138487908> False\n",
      "<keras.layers.core.Activation object at 0x1380f16a0> False\n",
      "<keras.layers.convolutional.SeparableConv2D object at 0x138880be0> False\n",
      "<keras.layers.normalization.BatchNormalization object at 0x138793780> False\n",
      "<keras.layers.core.Activation object at 0x1388a1748> False\n",
      "<keras.layers.convolutional.SeparableConv2D object at 0x138e07780> False\n",
      "<keras.layers.normalization.BatchNormalization object at 0x138dd2e10> False\n",
      "<keras.layers.core.Activation object at 0x138df5dd8> False\n",
      "<keras.layers.convolutional.SeparableConv2D object at 0x138e85c18> False\n",
      "<keras.layers.normalization.BatchNormalization object at 0x139135208> False\n",
      "<keras.layers.merge.Add object at 0x138e526d8> False\n",
      "<keras.layers.core.Activation object at 0x138abf470> False\n",
      "<keras.layers.convolutional.SeparableConv2D object at 0x139276eb8> False\n",
      "<keras.layers.normalization.BatchNormalization object at 0x139195d30> False\n",
      "<keras.layers.core.Activation object at 0x13926b518> False\n",
      "<keras.layers.convolutional.SeparableConv2D object at 0x1394ff668> False\n",
      "<keras.layers.normalization.BatchNormalization object at 0x13957fbe0> False\n",
      "<keras.layers.core.Activation object at 0x1397b9ba8> False\n",
      "<keras.layers.convolutional.SeparableConv2D object at 0x1398a5b38> False\n",
      "<keras.layers.normalization.BatchNormalization object at 0x1398f0ac8> False\n",
      "<keras.layers.merge.Add object at 0x1398184a8> False\n",
      "<keras.layers.core.Activation object at 0x139282240> False\n",
      "<keras.layers.convolutional.SeparableConv2D object at 0x139e46c88> False\n",
      "<keras.layers.normalization.BatchNormalization object at 0x139e32cf8> False\n",
      "<keras.layers.core.Activation object at 0x139e392e8> False\n",
      "<keras.layers.convolutional.SeparableConv2D object at 0x139eb2080> False\n",
      "<keras.layers.normalization.BatchNormalization object at 0x13a16f9b0> False\n",
      "<keras.layers.core.Activation object at 0x13a186978> False\n",
      "<keras.layers.convolutional.SeparableConv2D object at 0x13a272d68> False\n",
      "<keras.layers.normalization.BatchNormalization object at 0x13a4bffd0> False\n",
      "<keras.layers.merge.Add object at 0x13a1e4278> False\n",
      "<keras.layers.core.Activation object at 0x139e46fd0> False\n",
      "<keras.layers.convolutional.SeparableConv2D object at 0x13a80ea58> False\n",
      "<keras.layers.normalization.BatchNormalization object at 0x13a4ecc88> False\n",
      "<keras.layers.core.Activation object at 0x13a5fc0b8> False\n",
      "<keras.layers.convolutional.SeparableConv2D object at 0x13a827128> False\n",
      "<keras.layers.normalization.BatchNormalization object at 0x13ab32780> False\n",
      "<keras.layers.core.Activation object at 0x13ab4a748> False\n",
      "<keras.layers.convolutional.SeparableConv2D object at 0x13abe0588> False\n",
      "<keras.layers.normalization.BatchNormalization object at 0x13ac7eda0> False\n",
      "<keras.layers.merge.Add object at 0x13abac048> False\n",
      "<keras.layers.core.Activation object at 0x13a80eda0> False\n",
      "<keras.layers.convolutional.SeparableConv2D object at 0x13afcf828> False\n",
      "<keras.layers.normalization.BatchNormalization object at 0x13aed80b8> False\n",
      "<keras.layers.core.Activation object at 0x13afbee48> False\n",
      "<keras.layers.convolutional.SeparableConv2D object at 0x13aedde80> False\n",
      "<keras.layers.normalization.BatchNormalization object at 0x13b4ce6a0> False\n",
      "<keras.layers.core.Activation object at 0x13b511518> False\n",
      "<keras.layers.convolutional.SeparableConv2D object at 0x13b5fc438> False\n",
      "<keras.layers.normalization.BatchNormalization object at 0x13b84cb70> False\n",
      "<keras.layers.merge.Add object at 0x13b568dd8> False\n",
      "<keras.layers.core.Activation object at 0x13afcfb70> False\n",
      "<keras.layers.convolutional.SeparableConv2D object at 0x13bb9d5f8> False\n",
      "<keras.layers.normalization.BatchNormalization object at 0x13b87def0> False\n",
      "<keras.layers.core.Activation object at 0x13b982c18> False\n",
      "<keras.layers.convolutional.SeparableConv2D object at 0x13bee3c50> False\n",
      "<keras.layers.normalization.BatchNormalization object at 0x13beb4cf8> False\n",
      "<keras.layers.core.Activation object at 0x13bed82e8> False\n",
      "<keras.layers.convolutional.SeparableConv2D object at 0x13bfc85c0> False\n",
      "<keras.layers.normalization.BatchNormalization object at 0x13c213940> False\n",
      "<keras.layers.merge.Add object at 0x13bf2fba8> False\n",
      "<keras.layers.core.Activation object at 0x13c60cfd0> False\n",
      "<keras.layers.convolutional.SeparableConv2D object at 0x13c32ae80> False\n",
      "<keras.layers.normalization.BatchNormalization object at 0x13c5959b0> False\n",
      "<keras.layers.core.Activation object at 0x13c639748> False\n",
      "<keras.layers.convolutional.SeparableConv2D object at 0x13cc05c50> False\n",
      "<keras.layers.normalization.BatchNormalization object at 0x13cd06a58> False\n",
      "<keras.layers.convolutional.Conv2D object at 0x13c35e3c8> False\n",
      "<keras.layers.pooling.MaxPooling2D object at 0x13cd37128> False\n",
      "<keras.layers.normalization.BatchNormalization object at 0x13c35e860> False\n",
      "<keras.layers.merge.Add object at 0x13ce454e0> False\n",
      "<keras.layers.convolutional.SeparableConv2D object at 0x13ce4f3c8> False\n",
      "<keras.layers.normalization.BatchNormalization object at 0x13d456358> False\n",
      "<keras.layers.core.Activation object at 0x13d456390> False\n",
      "<keras.layers.convolutional.SeparableConv2D object at 0x13e17fbe0> False\n",
      "<keras.layers.normalization.BatchNormalization object at 0x13d56cc88> False\n",
      "<keras.layers.core.Activation object at 0x13e172278> False\n"
     ]
    },
    {
     "name": "stderr",
     "output_type": "stream",
     "text": [
      "/usr/local/lib/python3.6/site-packages/keras/utils/conv_utils.py:82: FutureWarning: Using a non-tuple sequence for multidimensional indexing is deprecated; use `arr[tuple(seq)]` instead of `arr[seq]`. In the future this will be interpreted as an array index, `arr[np.array(seq)]`, which will result either in an error or a different result.\n",
      "  return np.copy(kernel[slices])\n"
     ]
    }
   ],
   "source": [
    "from keras.applications import Xception\n",
    "xception_conv = Xception(weights='imagenet', include_top=False, input_shape=(image_size, image_size, 3))\n",
    "\n",
    "# Freeze all the layers\n",
    "for layer in xception_conv.layers[:]:\n",
    "    layer.trainable = False\n",
    "    \n",
    "# Check the trainable status of the individual layers\n",
    "for layer in xception_conv.layers:\n",
    "    print(layer, layer.trainable)\n",
    "\n",
    "pretrained_conv = xception_conv"
   ]
  },
  {
   "cell_type": "code",
   "execution_count": 14,
   "metadata": {},
   "outputs": [
    {
     "name": "stdout",
     "output_type": "stream",
     "text": [
      "<keras.engine.input_layer.InputLayer object at 0x13fac5160> False\n",
      "<keras.layers.convolutional.Conv2D object at 0x1193b4eb8> False\n",
      "<keras.layers.convolutional.Conv2D object at 0x13c62d3c8> False\n",
      "<keras.layers.pooling.MaxPooling2D object at 0x13c6370f0> False\n",
      "<keras.layers.convolutional.Conv2D object at 0x13bfd0400> False\n",
      "<keras.layers.convolutional.Conv2D object at 0x13bfd0f60> False\n",
      "<keras.layers.pooling.MaxPooling2D object at 0x13bbd2f60> False\n",
      "<keras.layers.convolutional.Conv2D object at 0x13b94add8> False\n",
      "<keras.layers.convolutional.Conv2D object at 0x13b964550> False\n",
      "<keras.layers.convolutional.Conv2D object at 0x13b5e89b0> False\n",
      "<keras.layers.pooling.MaxPooling2D object at 0x13b4ce438> False\n",
      "<keras.layers.convolutional.Conv2D object at 0x13aec47f0> False\n",
      "<keras.layers.convolutional.Conv2D object at 0x13aec4320> False\n",
      "<keras.layers.convolutional.Conv2D object at 0x13ae9b240> False\n",
      "<keras.layers.pooling.MaxPooling2D object at 0x13ac447b8> False\n",
      "<keras.layers.convolutional.Conv2D object at 0x13a81eef0> False\n",
      "<keras.layers.convolutional.Conv2D object at 0x13a85e240> False\n",
      "<keras.layers.convolutional.Conv2D object at 0x13a851da0> False\n",
      "<keras.layers.pooling.MaxPooling2D object at 0x13a4c72b0> False\n"
     ]
    }
   ],
   "source": [
    "from keras.applications import VGG16\n",
    "\n",
    "#Load the VGG model\n",
    "vgg_conv = VGG16(weights='imagenet', include_top=False, input_shape=(image_size, image_size, 3))\n",
    "\n",
    "# Freeze all the layers\n",
    "for layer in vgg_conv.layers[:]:\n",
    "    layer.trainable = False\n",
    "\n",
    "# Check the trainable status of the individual layers\n",
    "for layer in vgg_conv.layers:\n",
    "    print(layer, layer.trainable)\n",
    "\n",
    "pretrained_conv = vgg_conv"
   ]
  },
  {
   "cell_type": "code",
   "execution_count": 15,
   "metadata": {},
   "outputs": [
    {
     "name": "stdout",
     "output_type": "stream",
     "text": [
      "_________________________________________________________________\n",
      "Layer (type)                 Output Shape              Param #   \n",
      "=================================================================\n",
      "vgg16 (Model)                (None, 7, 7, 512)         14714688  \n",
      "_________________________________________________________________\n",
      "flatten_3 (Flatten)          (None, 25088)             0         \n",
      "_________________________________________________________________\n",
      "dense_5 (Dense)              (None, 1024)              25691136  \n",
      "_________________________________________________________________\n",
      "dropout_3 (Dropout)          (None, 1024)              0         \n",
      "_________________________________________________________________\n",
      "dense_6 (Dense)              (None, 2)                 2050      \n",
      "=================================================================\n",
      "Total params: 40,407,874\n",
      "Trainable params: 25,693,186\n",
      "Non-trainable params: 14,714,688\n",
      "_________________________________________________________________\n"
     ]
    }
   ],
   "source": [
    "from keras import models\n",
    "from keras import layers\n",
    "from keras import optimizers\n",
    "\n",
    "# Create the model\n",
    "model = models.Sequential()\n",
    "\n",
    "# Add the vgg convolutional base model\n",
    "model.add(pretrained_conv)\n",
    "\n",
    "# Add new layers\n",
    "model.add(layers.Flatten())\n",
    "model.add(layers.Dense(1024, activation='relu'))\n",
    "model.add(layers.Dropout(0.5))\n",
    "model.add(layers.Dense(2, activation='softmax'))\n",
    "\n",
    "# Show a summary of the model. Check the number of trainable parameters\n",
    "model.summary()"
   ]
  },
  {
   "cell_type": "markdown",
   "metadata": {},
   "source": [
    "## Experiment 1\n",
    "Train the model"
   ]
  },
  {
   "cell_type": "code",
   "execution_count": null,
   "metadata": {},
   "outputs": [
    {
     "name": "stdout",
     "output_type": "stream",
     "text": [
      "Found 1140 images belonging to 2 classes.\n",
      "Found 300 images belonging to 2 classes.\n",
      "Epoch 1/3\n"
     ]
    },
    {
     "name": "stderr",
     "output_type": "stream",
     "text": [
      "/usr/local/lib/python3.6/site-packages/PIL/Image.py:953: UserWarning: Palette images with Transparency   expressed in bytes should be converted to RGBA images\n",
      "  'to RGBA images')\n"
     ]
    },
    {
     "name": "stdout",
     "output_type": "stream",
     "text": [
      " 14/114 [==>...........................] - ETA: 10:27 - loss: 2.2152 - acc: 0.5429"
     ]
    }
   ],
   "source": [
    "# No Data augmentation \n",
    "from keras.preprocessing.image import ImageDataGenerator, load_img\n",
    "train_datagen = ImageDataGenerator(rescale=1./255)\n",
    "validation_datagen = ImageDataGenerator(rescale=1./255)\n",
    "\n",
    "# Change the batchsize according to your system RAM\n",
    "train_batchsize = 10\n",
    "val_batchsize = 10\n",
    "\n",
    "# Data Generator for Training data\n",
    "train_generator = train_datagen.flow_from_directory(\n",
    "        train_dir,\n",
    "        target_size=(image_size, image_size),\n",
    "        batch_size=train_batchsize,\n",
    "        class_mode='categorical')\n",
    "\n",
    "# Data Generator for Validation data\n",
    "validation_generator = validation_datagen.flow_from_directory(\n",
    "        validation_dir,\n",
    "        target_size=(image_size, image_size),\n",
    "        batch_size=val_batchsize,\n",
    "        class_mode='categorical',\n",
    "        shuffle=False)\n",
    "\n",
    "# Compile the model\n",
    "model.compile(loss='categorical_crossentropy',\n",
    "              optimizer=optimizers.RMSprop(lr=1e-4),\n",
    "              metrics=['acc'])\n",
    "\n",
    "from keras.callbacks import ModelCheckpoint  \n",
    "checkpointer = ModelCheckpoint(filepath='saved_models/weights.best.hdf5', \n",
    "                               verbose=1, save_best_only=True)\n",
    "\n",
    "time1 = datetime.now()\n",
    "# Train the Model\n",
    "history = model.fit_generator(\n",
    "      train_generator,\n",
    "      steps_per_epoch=train_generator.samples/train_generator.batch_size ,\n",
    "      epochs=3,\n",
    "      validation_data=validation_generator,\n",
    "      validation_steps=validation_generator.samples/validation_generator.batch_size,\n",
    "      verbose=1, callbacks=[checkpointer])\n",
    "\n",
    "time2 = datetime.now()\n",
    "elapsedTime = time2 - time1\n",
    "print(\"Elapsed time: \"+ str(elapsedTime.total_seconds()) + \" secs\")\n",
    "\n",
    "\n",
    "# Save the Model\n",
    "model.save('all_freezed.h5')\n",
    "\n",
    "# Plot the accuracy and loss curves\n",
    "acc = history.history['acc']\n",
    "val_acc = history.history['val_acc']\n",
    "loss = history.history['loss']\n",
    "val_loss = history.history['val_loss']\n",
    "\n",
    "epochs = range(len(acc))\n"
   ]
  },
  {
   "cell_type": "code",
   "execution_count": 7,
   "metadata": {},
   "outputs": [
    {
     "data": {
      "image/png": "[encoded data removed]",
      "text/plain": [
       "<Figure size 432x288 with 1 Axes>"
      ]
     },
     "metadata": {
      "needs_background": "light"
     },
     "output_type": "display_data"
    },
    {
     "data": {
      "image/png": "[encoded data removed]",
      "text/plain": [
       "<Figure size 432x288 with 1 Axes>"
      ]
     },
     "metadata": {
      "needs_background": "light"
     },
     "output_type": "display_data"
    }
   ],
   "source": [
    "\n",
    "plt.plot(epochs, acc, 'b', label='Training acc')\n",
    "plt.plot(epochs, val_acc, 'r', label='Validation acc')\n",
    "plt.title('Training and validation accuracy')\n",
    "plt.legend()\n",
    "\n",
    "plt.figure()\n",
    "\n",
    "plt.plot(epochs, loss, 'b', label='Training loss')\n",
    "plt.plot(epochs, val_loss, 'r', label='Validation loss')\n",
    "plt.title('Training and validation loss')\n",
    "plt.legend()\n",
    "\n",
    "plt.show()"
   ]
  },
  {
   "cell_type": "markdown",
   "metadata": {},
   "source": [
    "## Experiment 1\n",
    "Show the errors"
   ]
  },
  {
   "cell_type": "code",
   "execution_count": 10,
   "metadata": {},
   "outputs": [
    {
     "name": "stdout",
     "output_type": "stream",
     "text": [
      "Found 300 images belonging to 2 classes.\n",
      "30/30 [==============================] - 225s 7s/step\n",
      "Elapsed time: 234.778285 secs\n",
      "No of errors = 1/300\n"
     ]
    }
   ],
   "source": [
    "# Create a generator for prediction\n",
    "validation_generator = validation_datagen.flow_from_directory(\n",
    "        validation_dir,\n",
    "        target_size=(image_size, image_size),\n",
    "        batch_size=val_batchsize,\n",
    "        class_mode='categorical',\n",
    "        shuffle=False)\n",
    "\n",
    "# Get the filenames from the generator\n",
    "fnames = validation_generator.filenames\n",
    "\n",
    "# Get the ground truth from generator\n",
    "ground_truth = validation_generator.classes\n",
    "\n",
    "# Get the label to class mapping from the generator\n",
    "label2index = validation_generator.class_indices\n",
    "\n",
    "# Getting the mapping from class index to class label\n",
    "idx2label = dict((v,k) for k,v in label2index.items())\n",
    "\n",
    "\n",
    "time1 = datetime.now()\n",
    "# Get the predictions from the model using the generator\n",
    "predictions = model.predict_generator(validation_generator, steps=validation_generator.samples/validation_generator.batch_size,verbose=1)\n",
    "predicted_classes = np.argmax(predictions,axis=1)\n",
    "\n",
    "time2 = datetime.now()\n",
    "elapsedTime = time2 - time1\n",
    "print(\"Elapsed time: \"+ str(elapsedTime.total_seconds()) + \" secs\")\n",
    "\n",
    "errors = np.where(predicted_classes != ground_truth)[0]\n",
    "print(\"No of errors = {}/{}\".format(len(errors),validation_generator.samples))"
   ]
  },
  {
   "cell_type": "code",
   "execution_count": 11,
   "metadata": {},
   "outputs": [
    {
     "name": "stdout",
     "output_type": "stream",
     "text": [
      "accuracy: 99.66666666666667 %\n"
     ]
    }
   ],
   "source": [
    "\n",
    "print(\"accuracy: \" + str((validation_generator.samples-len(errors))/validation_generator.samples*100)+\" %\")"
   ]
  },
  {
   "cell_type": "code",
   "execution_count": null,
   "metadata": {},
   "outputs": [],
   "source": []
  }
 ],
 "metadata": {
  "kernelspec": {
   "display_name": "Python 3",
   "language": "python",
   "name": "python3"
  },
  "language_info": {
   "codemirror_mode": {
    "name": "ipython",
    "version": 3
   },
   "file_extension": ".py",
   "mimetype": "text/x-python",
   "name": "python",
   "nbconvert_exporter": "python",
   "pygments_lexer": "ipython3",
   "version": "3.6.5"
  }
 },
 "nbformat": 4,
 "nbformat_minor": 2
}
