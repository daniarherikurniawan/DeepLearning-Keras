{
 "cells": [
  {
   "cell_type": "code",
   "execution_count": 1,
   "metadata": {},
   "outputs": [
    {
     "name": "stderr",
     "output_type": "stream",
     "text": [
      "Using TensorFlow backend.\n"
     ]
    },
    {
     "name": "stdout",
     "output_type": "stream",
     "text": [
      "3.6.5\n"
     ]
    },
    {
     "data": {
      "text/plain": [
       "'tensorflow'"
      ]
     },
     "execution_count": 1,
     "metadata": {},
     "output_type": "execute_result"
    }
   ],
   "source": [
    "import numpy as np\n",
    "import matplotlib.pyplot as plt\n",
    "%matplotlib inline\n",
    "import keras\n",
    "from keras.preprocessing.image import ImageDataGenerator, load_img\n",
    "\n",
    "from datetime import datetime, timedelta\n",
    "\n",
    "import platform\n",
    " \n",
    "print(platform.python_version())\n",
    "\n",
    "import keras\n",
    "keras.backend.backend()"
   ]
  },
  {
   "cell_type": "code",
   "execution_count": 2,
   "metadata": {},
   "outputs": [],
   "source": [
    "train_dir = 'img/train'\n",
    "validation_dir = 'img/validation'\n",
    "image_size = 224"
   ]
  },
  {
   "cell_type": "markdown",
   "metadata": {},
   "source": [
    "## Experiment 1: Freezing all layers - Same as Transfer Learning\n",
    "Create the model"
   ]
  },
  {
   "cell_type": "code",
   "execution_count": 3,
   "metadata": {},
   "outputs": [
    {
     "name": "stdout",
     "output_type": "stream",
     "text": [
      "<keras.engine.input_layer.InputLayer object at 0x12c050438> False\n",
      "<keras.layers.convolutional.Conv2D object at 0x12c050748> False\n",
      "<keras.layers.normalization.BatchNormalization object at 0x12c050710> False\n",
      "<keras.layers.core.Activation object at 0x12c050898> False\n",
      "<keras.layers.convolutional.Conv2D object at 0x12c050f98> False\n",
      "<keras.layers.normalization.BatchNormalization object at 0x12c0f6f60> False\n",
      "<keras.layers.core.Activation object at 0x12c0f6e10> False\n",
      "<keras.layers.convolutional.SeparableConv2D object at 0x12c21eb38> False\n",
      "<keras.layers.normalization.BatchNormalization object at 0x12c2cc9b0> False\n",
      "<keras.layers.core.Activation object at 0x12c37ce10> False\n",
      "<keras.layers.convolutional.SeparableConv2D object at 0x12c3cc2e8> False\n",
      "<keras.layers.normalization.BatchNormalization object at 0x12c3eefd0> False\n",
      "<keras.layers.convolutional.Conv2D object at 0x12c1815c0> False\n",
      "<keras.layers.pooling.MaxPooling2D object at 0x12c495e48> False\n",
      "<keras.layers.normalization.BatchNormalization object at 0x12c1d1208> False\n",
      "<keras.layers.merge.Add object at 0x12c4be4a8> False\n",
      "<keras.layers.core.Activation object at 0x12c5dd550> False\n",
      "<keras.layers.convolutional.SeparableConv2D object at 0x12c6055c0> False\n",
      "<keras.layers.normalization.BatchNormalization object at 0x12c6213c8> False\n",
      "<keras.layers.core.Activation object at 0x12c6c8f28> False\n",
      "<keras.layers.convolutional.SeparableConv2D object at 0x12c6fbc18> False\n",
      "<keras.layers.normalization.BatchNormalization object at 0x12c73d630> False\n",
      "<keras.layers.convolutional.Conv2D object at 0x12c550eb8> False\n",
      "<keras.layers.pooling.MaxPooling2D object at 0x12c7e7d30> False\n",
      "<keras.layers.normalization.BatchNormalization object at 0x12c5dda20> False\n",
      "<keras.layers.merge.Add object at 0x12c80f390> False\n",
      "<keras.layers.core.Activation object at 0x12c957518> False\n",
      "<keras.layers.convolutional.SeparableConv2D object at 0x12c92dfd0> False\n",
      "<keras.layers.normalization.BatchNormalization object at 0x12c975208> False\n",
      "<keras.layers.core.Activation object at 0x12ca1cd68> False\n",
      "<keras.layers.convolutional.SeparableConv2D object at 0x12ca51a58> False\n",
      "<keras.layers.normalization.BatchNormalization object at 0x12ca91470> False\n",
      "<keras.layers.convolutional.Conv2D object at 0x12c8a4828> False\n",
      "<keras.layers.pooling.MaxPooling2D object at 0x12cb3bfd0> False\n",
      "<keras.layers.normalization.BatchNormalization object at 0x12c92d828> False\n",
      "<keras.layers.merge.Add object at 0x12cb6b208> False\n",
      "<keras.layers.core.Activation object at 0x12cbf6be0> False\n",
      "<keras.layers.convolutional.SeparableConv2D object at 0x12cbad6a0> False\n",
      "<keras.layers.normalization.BatchNormalization object at 0x12cc7f748> False\n",
      "<keras.layers.core.Activation object at 0x12cc7fe80> False\n",
      "<keras.layers.convolutional.SeparableConv2D object at 0x12ccccd68> False\n",
      "<keras.layers.normalization.BatchNormalization object at 0x12cce7320> False\n",
      "<keras.layers.core.Activation object at 0x12cdc0c50> False\n",
      "<keras.layers.convolutional.SeparableConv2D object at 0x12cd92da0> False\n",
      "<keras.layers.normalization.BatchNormalization object at 0x12ce050b8> False\n",
      "<keras.layers.merge.Add object at 0x12ceb1908> False\n",
      "<keras.layers.core.Activation object at 0x12cbadf60> False\n",
      "<keras.layers.convolutional.SeparableConv2D object at 0x12cee0898> False\n",
      "<keras.layers.normalization.BatchNormalization object at 0x12cf6e748> False\n",
      "<keras.layers.core.Activation object at 0x12cfccf98> False\n",
      "<keras.layers.convolutional.SeparableConv2D object at 0x12d01d2e8> False\n",
      "<keras.layers.normalization.BatchNormalization object at 0x12d03f6a0> False\n",
      "<keras.layers.core.Activation object at 0x12d0e6da0> False\n",
      "<keras.layers.convolutional.SeparableConv2D object at 0x12d140550> False\n",
      "<keras.layers.normalization.BatchNormalization object at 0x12d1a87b8> False\n",
      "<keras.layers.merge.Add object at 0x12d209f98> False\n",
      "<keras.layers.core.Activation object at 0x12cee0ef0> False\n",
      "<keras.layers.convolutional.SeparableConv2D object at 0x12d2325c0> False\n",
      "<keras.layers.normalization.BatchNormalization object at 0x12d2f00b8> False\n",
      "<keras.layers.core.Activation object at 0x12d34db70> False\n",
      "<keras.layers.convolutional.SeparableConv2D object at 0x12d34dc88> False\n",
      "<keras.layers.normalization.BatchNormalization object at 0x12d3b41d0> False\n",
      "<keras.layers.core.Activation object at 0x12d491cc0> False\n",
      "<keras.layers.convolutional.SeparableConv2D object at 0x12d461f28> False\n",
      "<keras.layers.normalization.BatchNormalization object at 0x12d4d6208> False\n",
      "<keras.layers.merge.Add object at 0x12d57ed68> False\n",
      "<keras.layers.core.Activation object at 0x12d232358> False\n",
      "<keras.layers.convolutional.SeparableConv2D object at 0x12d5b2b70> False\n",
      "<keras.layers.normalization.BatchNormalization object at 0x12d63d390> False\n",
      "<keras.layers.core.Activation object at 0x12d69efd0> False\n",
      "<keras.layers.convolutional.SeparableConv2D object at 0x12d6ef4a8> False\n",
      "<keras.layers.normalization.BatchNormalization object at 0x12d711eb8> False\n",
      "<keras.layers.core.Activation object at 0x12d7bcb38> False\n",
      "<keras.layers.convolutional.SeparableConv2D object at 0x12d810710> False\n",
      "<keras.layers.normalization.BatchNormalization object at 0x12d82fb70> False\n",
      "<keras.layers.merge.Add object at 0x12d94e978> False\n",
      "<keras.layers.core.Activation object at 0x12d5b2278> False\n",
      "<keras.layers.convolutional.SeparableConv2D object at 0x12d98de48> False\n",
      "<keras.layers.normalization.BatchNormalization object at 0x12d9dd240> False\n",
      "<keras.layers.core.Activation object at 0x12da46d30> False\n",
      "<keras.layers.convolutional.SeparableConv2D object at 0x12da46e48> False\n",
      "<keras.layers.normalization.BatchNormalization object at 0x12dab0160> False\n",
      "<keras.layers.core.Activation object at 0x12db56cc0> False\n",
      "<keras.layers.convolutional.SeparableConv2D object at 0x12db89f98> False\n",
      "<keras.layers.normalization.BatchNormalization object at 0x12dbcc3c8> False\n",
      "<keras.layers.merge.Add object at 0x12dc72f28> False\n",
      "<keras.layers.core.Activation object at 0x12d9273c8> False\n",
      "<keras.layers.convolutional.SeparableConv2D object at 0x12dca5128> False\n",
      "<keras.layers.normalization.BatchNormalization object at 0x12dd350f0> False\n",
      "<keras.layers.core.Activation object at 0x12dde9668> False\n",
      "<keras.layers.convolutional.SeparableConv2D object at 0x12ddbef60> False\n",
      "<keras.layers.normalization.BatchNormalization object at 0x12dc36ef0> False\n",
      "<keras.layers.core.Activation object at 0x12de28da0> False\n",
      "<keras.layers.convolutional.SeparableConv2D object at 0x12df018d0> False\n",
      "<keras.layers.normalization.BatchNormalization object at 0x12df28eb8> False\n",
      "<keras.layers.merge.Add object at 0x12e01bb38> False\n",
      "<keras.layers.core.Activation object at 0x12dca5160> False\n",
      "<keras.layers.convolutional.SeparableConv2D object at 0x12dff6940> False\n",
      "<keras.layers.normalization.BatchNormalization object at 0x12e0ad4a8> False\n",
      "<keras.layers.core.Activation object at 0x12e109cf8> False\n",
      "<keras.layers.convolutional.SeparableConv2D object at 0x12e136048> False\n",
      "<keras.layers.normalization.BatchNormalization object at 0x12e17f320> False\n",
      "<keras.layers.core.Activation object at 0x12e229e80> False\n",
      "<keras.layers.convolutional.SeparableConv2D object at 0x12e25cb70> False\n",
      "<keras.layers.normalization.BatchNormalization object at 0x12e2a0588> False\n",
      "<keras.layers.merge.Add object at 0x12e346e10> False\n",
      "<keras.layers.core.Activation object at 0x12dff6668> False\n",
      "<keras.layers.convolutional.SeparableConv2D object at 0x12e377278> False\n",
      "<keras.layers.normalization.BatchNormalization object at 0x12e3ff3c8> False\n",
      "<keras.layers.core.Activation object at 0x12e4ba828> False\n",
      "<keras.layers.convolutional.SeparableConv2D object at 0x12e4f5fd0> False\n",
      "<keras.layers.normalization.BatchNormalization object at 0x12e4dae10> False\n",
      "<keras.layers.core.Activation object at 0x12e5cda90> False\n",
      "<keras.layers.convolutional.SeparableConv2D object at 0x12e5fae10> False\n",
      "<keras.layers.normalization.BatchNormalization object at 0x12e6153c8> False\n",
      "<keras.layers.merge.Add object at 0x12e6eccc0> False\n",
      "<keras.layers.core.Activation object at 0x12e7816d8> False\n",
      "<keras.layers.convolutional.SeparableConv2D object at 0x12e809a90> False\n",
      "<keras.layers.normalization.BatchNormalization object at 0x12e82bdd8> False\n",
      "<keras.layers.core.Activation object at 0x12e927ac8> False\n",
      "<keras.layers.convolutional.SeparableConv2D object at 0x12e901c18> False\n",
      "<keras.layers.normalization.BatchNormalization object at 0x12e9677b8> False\n",
      "<keras.layers.convolutional.Conv2D object at 0x12e6bfb00> False\n",
      "<keras.layers.pooling.MaxPooling2D object at 0x12ea45f28> False\n",
      "<keras.layers.normalization.BatchNormalization object at 0x12e781080> False\n",
      "<keras.layers.merge.Add object at 0x12ea13668> False\n",
      "<keras.layers.convolutional.SeparableConv2D object at 0x12ead85f8> False\n",
      "<keras.layers.normalization.BatchNormalization object at 0x12eb31e10> False\n",
      "<keras.layers.core.Activation object at 0x12eb85748> False\n",
      "<keras.layers.convolutional.SeparableConv2D object at 0x12ebc1dd8> False\n",
      "<keras.layers.normalization.BatchNormalization object at 0x12eba4ac8> False\n",
      "<keras.layers.core.Activation object at 0x12ec9dcc0> False\n"
     ]
    }
   ],
   "source": [
    "from keras.applications import Xception\n",
    "xception_conv = Xception(weights='imagenet', include_top=False, input_shape=(image_size, image_size, 3))\n",
    "\n",
    "# Freeze all the layers\n",
    "for layer in xception_conv.layers[:]:\n",
    "    layer.trainable = False\n",
    "    \n",
    "# Check the trainable status of the individual layers\n",
    "for layer in xception_conv.layers:\n",
    "    print(layer, layer.trainable)\n",
    "\n",
    "pretrained_conv = xception_conv"
   ]
  },
  {
   "cell_type": "code",
   "execution_count": 9,
   "metadata": {},
   "outputs": [
    {
     "name": "stdout",
     "output_type": "stream",
     "text": [
      "<keras.engine.input_layer.InputLayer object at 0x13245b0b8> False\n",
      "<keras.layers.convolutional.Conv2D object at 0x111762ac8> False\n",
      "<keras.layers.convolutional.Conv2D object at 0x13245bc18> False\n",
      "<keras.layers.pooling.MaxPooling2D object at 0x12f498d68> False\n",
      "<keras.layers.convolutional.Conv2D object at 0x12f1faac8> False\n",
      "<keras.layers.convolutional.Conv2D object at 0x12f21f0b8> False\n",
      "<keras.layers.pooling.MaxPooling2D object at 0x1116d57b8> False\n",
      "<keras.layers.convolutional.Conv2D object at 0x1116d5630> False\n",
      "<keras.layers.convolutional.Conv2D object at 0x11170e2e8> False\n",
      "<keras.layers.convolutional.Conv2D object at 0x1118af198> False\n",
      "<keras.layers.pooling.MaxPooling2D object at 0x1118cc7b8> False\n",
      "<keras.layers.convolutional.Conv2D object at 0x1118cc630> False\n",
      "<keras.layers.convolutional.Conv2D object at 0x12eee42e8> False\n",
      "<keras.layers.convolutional.Conv2D object at 0x12ef03198> False\n",
      "<keras.layers.pooling.MaxPooling2D object at 0x12ef1f7b8> False\n",
      "<keras.layers.convolutional.Conv2D object at 0x12ef1f630> False\n",
      "<keras.layers.convolutional.Conv2D object at 0x12ef5b2e8> False\n",
      "<keras.layers.convolutional.Conv2D object at 0x12ef79198> False\n",
      "<keras.layers.pooling.MaxPooling2D object at 0x12ef987b8> False\n"
     ]
    }
   ],
   "source": [
    "from keras.applications import VGG16\n",
    "\n",
    "#Load the VGG model\n",
    "vgg_conv = VGG16(weights='imagenet', include_top=False, input_shape=(image_size, image_size, 3))\n",
    "\n",
    "# Freeze all the layers\n",
    "for layer in vgg_conv.layers[:]:\n",
    "    layer.trainable = False\n",
    "\n",
    "# Check the trainable status of the individual layers\n",
    "for layer in vgg_conv.layers:\n",
    "    print(layer, layer.trainable)\n",
    "\n",
    "pretrained_conv = vgg_conv"
   ]
  },
  {
   "cell_type": "code",
   "execution_count": 10,
   "metadata": {},
   "outputs": [
    {
     "name": "stdout",
     "output_type": "stream",
     "text": [
      "_________________________________________________________________\n",
      "Layer (type)                 Output Shape              Param #   \n",
      "=================================================================\n",
      "vgg16 (Model)                (None, 7, 7, 512)         14714688  \n",
      "_________________________________________________________________\n",
      "flatten_2 (Flatten)          (None, 25088)             0         \n",
      "_________________________________________________________________\n",
      "dense_3 (Dense)              (None, 1024)              25691136  \n",
      "_________________________________________________________________\n",
      "dropout_2 (Dropout)          (None, 1024)              0         \n",
      "_________________________________________________________________\n",
      "dense_4 (Dense)              (None, 2)                 2050      \n",
      "=================================================================\n",
      "Total params: 40,407,874\n",
      "Trainable params: 25,693,186\n",
      "Non-trainable params: 14,714,688\n",
      "_________________________________________________________________\n"
     ]
    }
   ],
   "source": [
    "from keras import models\n",
    "from keras import layers\n",
    "from keras import optimizers\n",
    "\n",
    "# Create the model\n",
    "model = models.Sequential()\n",
    "\n",
    "# Add the vgg convolutional base model\n",
    "model.add(pretrained_conv)\n",
    "\n",
    "# Add new layers\n",
    "model.add(layers.Flatten())\n",
    "model.add(layers.Dense(1024, activation='relu'))\n",
    "model.add(layers.Dropout(0.5))\n",
    "model.add(layers.Dense(2, activation='softmax'))\n",
    "\n",
    "# Show a summary of the model. Check the number of trainable parameters\n",
    "model.summary()"
   ]
  },
  {
   "cell_type": "markdown",
   "metadata": {},
   "source": [
    "## Experiment 1\n",
    "Train the model"
   ]
  },
  {
   "cell_type": "code",
   "execution_count": 11,
   "metadata": {},
   "outputs": [
    {
     "name": "stdout",
     "output_type": "stream",
     "text": [
      "Found 1140 images belonging to 2 classes.\n",
      "Found 300 images belonging to 2 classes.\n",
      "Epoch 1/3\n",
      "114/114 [==============================] - 826s 7s/step - loss: 0.5577 - acc: 0.8325 - val_loss: 0.2252 - val_acc: 0.8933\n",
      "\n",
      "Epoch 00001: val_loss improved from inf to 0.22523, saving model to saved_models/weights.best.hdf5\n",
      "Epoch 2/3\n",
      "114/114 [==============================] - 745s 7s/step - loss: 0.1698 - acc: 0.9404 - val_loss: 0.0996 - val_acc: 0.9667\n",
      "\n",
      "Epoch 00002: val_loss improved from 0.22523 to 0.09962, saving model to saved_models/weights.best.hdf5\n",
      "Epoch 3/3\n",
      "114/114 [==============================] - 771s 7s/step - loss: 0.1240 - acc: 0.9553 - val_loss: 0.1589 - val_acc: 0.9567\n",
      "\n",
      "Epoch 00003: val_loss did not improve from 0.09962\n",
      "Elapsed time: 2344.725993 secs\n"
     ]
    }
   ],
   "source": [
    "# No Data augmentation \n",
    "from keras.preprocessing.image import ImageDataGenerator, load_img\n",
    "train_datagen = ImageDataGenerator(rescale=1./255)\n",
    "validation_datagen = ImageDataGenerator(rescale=1./255)\n",
    "\n",
    "# Change the batchsize according to your system RAM\n",
    "train_batchsize = 10\n",
    "val_batchsize = 10\n",
    "\n",
    "# Data Generator for Training data\n",
    "train_generator = train_datagen.flow_from_directory(\n",
    "        train_dir,\n",
    "        target_size=(image_size, image_size),\n",
    "        batch_size=train_batchsize,\n",
    "        class_mode='categorical')\n",
    "\n",
    "# Data Generator for Validation data\n",
    "validation_generator = validation_datagen.flow_from_directory(\n",
    "        validation_dir,\n",
    "        target_size=(image_size, image_size),\n",
    "        batch_size=val_batchsize,\n",
    "        class_mode='categorical',\n",
    "        shuffle=False)\n",
    "\n",
    "# Compile the model\n",
    "model.compile(loss='categorical_crossentropy',\n",
    "              optimizer=optimizers.RMSprop(lr=1e-4),\n",
    "              metrics=['acc'])\n",
    "\n",
    "from keras.callbacks import ModelCheckpoint  \n",
    "checkpointer = ModelCheckpoint(filepath='saved_models/weights.best.hdf5', \n",
    "                               verbose=1, save_best_only=True)\n",
    "\n",
    "time1 = datetime.now()\n",
    "# Train the Model\n",
    "history = model.fit_generator(\n",
    "      train_generator,\n",
    "      steps_per_epoch=train_generator.samples/train_generator.batch_size ,\n",
    "      epochs=3,\n",
    "      validation_data=validation_generator,\n",
    "      validation_steps=validation_generator.samples/validation_generator.batch_size,\n",
    "      verbose=1, callbacks=[checkpointer])\n",
    "\n",
    "time2 = datetime.now()\n",
    "elapsedTime = time2 - time1\n",
    "print(\"Elapsed time: \"+ str(elapsedTime.total_seconds()) + \" secs\")\n",
    "\n",
    "\n",
    "# Save the Model\n",
    "model.save('all_freezed.h5')\n",
    "\n",
    "# Plot the accuracy and loss curves\n",
    "acc = history.history['acc']\n",
    "val_acc = history.history['val_acc']\n",
    "loss = history.history['loss']\n",
    "val_loss = history.history['val_loss']\n",
    "\n",
    "epochs = range(len(acc))\n"
   ]
  },
  {
   "cell_type": "code",
   "execution_count": 12,
   "metadata": {},
   "outputs": [
    {
     "data": {
      "image/png": "[encoded data removed]",
      "text/plain": [
       "<Figure size 432x288 with 1 Axes>"
      ]
     },
     "metadata": {
      "needs_background": "light"
     },
     "output_type": "display_data"
    },
    {
     "data": {
      "image/png": "[encoded data removed]",
      "text/plain": [
       "<Figure size 432x288 with 1 Axes>"
      ]
     },
     "metadata": {
      "needs_background": "light"
     },
     "output_type": "display_data"
    }
   ],
   "source": [
    "\n",
    "plt.plot(epochs, acc, 'b', label='Training acc')\n",
    "plt.plot(epochs, val_acc, 'r', label='Validation acc')\n",
    "plt.title('Training and validation accuracy')\n",
    "plt.legend()\n",
    "\n",
    "plt.figure()\n",
    "\n",
    "plt.plot(epochs, loss, 'b', label='Training loss')\n",
    "plt.plot(epochs, val_loss, 'r', label='Validation loss')\n",
    "plt.title('Training and validation loss')\n",
    "plt.legend()\n",
    "\n",
    "plt.show()"
   ]
  },
  {
   "cell_type": "markdown",
   "metadata": {},
   "source": [
    "## Experiment 1\n",
    "Show the errors"
   ]
  },
  {
   "cell_type": "code",
   "execution_count": 13,
   "metadata": {},
   "outputs": [
    {
     "name": "stdout",
     "output_type": "stream",
     "text": [
      "Found 300 images belonging to 2 classes.\n",
      "30/30 [==============================] - 171s 6s/step\n",
      "Elapsed time: 170.68683 secs\n",
      "No of errors = 13/300\n"
     ]
    }
   ],
   "source": [
    "# Create a generator for prediction\n",
    "validation_generator = validation_datagen.flow_from_directory(\n",
    "        validation_dir,\n",
    "        target_size=(image_size, image_size),\n",
    "        batch_size=val_batchsize,\n",
    "        class_mode='categorical',\n",
    "        shuffle=False)\n",
    "\n",
    "# Get the filenames from the generator\n",
    "fnames = validation_generator.filenames\n",
    "\n",
    "# Get the ground truth from generator\n",
    "ground_truth = validation_generator.classes\n",
    "\n",
    "# Get the label to class mapping from the generator\n",
    "label2index = validation_generator.class_indices\n",
    "\n",
    "# Getting the mapping from class index to class label\n",
    "idx2label = dict((v,k) for k,v in label2index.items())\n",
    "\n",
    "\n",
    "time1 = datetime.now()\n",
    "# Get the predictions from the model using the generator\n",
    "predictions = model.predict_generator(validation_generator, steps=validation_generator.samples/validation_generator.batch_size,verbose=1)\n",
    "predicted_classes = np.argmax(predictions,axis=1)\n",
    "\n",
    "time2 = datetime.now()\n",
    "elapsedTime = time2 - time1\n",
    "print(\"Elapsed time: \"+ str(elapsedTime.total_seconds()) + \" secs\")\n",
    "\n",
    "errors = np.where(predicted_classes != ground_truth)[0]\n",
    "print(\"No of errors = {}/{}\".format(len(errors),validation_generator.samples))"
   ]
  },
  {
   "cell_type": "code",
   "execution_count": 15,
   "metadata": {},
   "outputs": [
    {
     "name": "stdout",
     "output_type": "stream",
     "text": [
      "accuracy: 95.66666666666667 %\n"
     ]
    }
   ],
   "source": [
    "\n",
    "print(\"accuracy: \" + str((validation_generator.samples-len(errors))/validation_generator.samples*100)+\" %\")"
   ]
  },
  {
   "cell_type": "code",
   "execution_count": null,
   "metadata": {},
   "outputs": [],
   "source": []
  }
 ],
 "metadata": {
  "kernelspec": {
   "display_name": "Python 3",
   "language": "python",
   "name": "python3"
  },
  "language_info": {
   "codemirror_mode": {
    "name": "ipython",
    "version": 3
   },
   "file_extension": ".py",
   "mimetype": "text/x-python",
   "name": "python",
   "nbconvert_exporter": "python",
   "pygments_lexer": "ipython3",
   "version": "3.6.5"
  }
 },
 "nbformat": 4,
 "nbformat_minor": 2
}
